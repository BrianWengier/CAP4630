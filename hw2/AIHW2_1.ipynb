{
  "nbformat": 4,
  "nbformat_minor": 0,
  "metadata": {
    "colab": {
      "name": "AIHW2.1.ipynb",
      "provenance": [],
      "collapsed_sections": [],
      "include_colab_link": true
    },
    "kernelspec": {
      "name": "python3",
      "display_name": "Python 3"
    }
  },
  "cells": [
    {
      "cell_type": "markdown",
      "metadata": {
        "id": "view-in-github",
        "colab_type": "text"
      },
      "source": [
        "<a href=\"https://colab.research.google.com/github/BrianWengier/CAP4630/blob/master/hw2/AIHW2_1.ipynb\" target=\"_parent\"><img src=\"https://colab.research.google.com/assets/colab-badge.svg\" alt=\"Open In Colab\"/></a>"
      ]
    },
    {
      "cell_type": "code",
      "metadata": {
        "id": "pCuhjLg4CQe3",
        "colab_type": "code",
        "colab": {}
      },
      "source": [
        "import matplotlib.pyplot as plt\n",
        "import numpy as np\n",
        "from keras.datasets import mnist\n",
        "from keras.utils import to_categorical\n",
        "from keras import models\n",
        "from keras import layers\n",
        "\n",
        "(train_images_original, train_labels_original), (test_images_original, test_labels_original) = mnist.load_data()"
      ],
      "execution_count": 0,
      "outputs": []
    },
    {
      "cell_type": "code",
      "metadata": {
        "id": "FGKR93I1juAZ",
        "colab_type": "code",
        "colab": {}
      },
      "source": [
        "def digitWidth(vecx):\n",
        "  leftMost = 27\n",
        "  rightMost = 0\n",
        "  for y in range(28):\n",
        "    for x in range(28):\n",
        "      if vecx[y*28 + x] > 0:\n",
        "        if x < leftMost:\n",
        "          leftMost = x\n",
        "        if x > rightMost:\n",
        "          rightMost = x\n",
        "  return (rightMost - leftMost + 1) / 28"
      ],
      "execution_count": 0,
      "outputs": []
    },
    {
      "cell_type": "code",
      "metadata": {
        "id": "mBmHcLVJrKeP",
        "colab_type": "code",
        "colab": {}
      },
      "source": [
        "def digitHeight(vecx):\n",
        "  lowerMost = 28\n",
        "  upperMost = 0\n",
        "  for y in range(28):\n",
        "    for x in range(28):\n",
        "      if vecx[y*28 + x] > 0:\n",
        "        if y < lowerMost:\n",
        "          lowerMost = y\n",
        "        if y > upperMost:\n",
        "          upperMost = y\n",
        "  return (upperMost - lowerMost + 1) / 28"
      ],
      "execution_count": 0,
      "outputs": []
    },
    {
      "cell_type": "code",
      "metadata": {
        "id": "npCDB0b7BCBC",
        "colab_type": "code",
        "colab": {}
      },
      "source": [
        "def averageIntensity(vecx):\n",
        "  pixelSum = 0\n",
        "  totalPixels = len(vecx)\n",
        "  for i in range(totalPixels):\n",
        "    pixelSum += vecx[i]\n",
        "  return pixelSum / totalPixels"
      ],
      "execution_count": 0,
      "outputs": []
    },
    {
      "cell_type": "code",
      "metadata": {
        "id": "mqWCDPNXtAWh",
        "colab_type": "code",
        "outputId": "dd837772-c7e9-4489-e8d9-0a5ab5b48d9c",
        "colab": {
          "base_uri": "https://localhost:8080/",
          "height": 34
        }
      },
      "source": [
        "traversed = []\n",
        "\n",
        "def whiteRegionHelper(vecx, i, j):\n",
        "  r = -1\n",
        "  dr = -1\n",
        "  d = -1\n",
        "  dl = -1\n",
        "  l = -1\n",
        "  ul = -1\n",
        "  u = -1\n",
        "  ur = -1\n",
        "  \n",
        "  if i < 28:\n",
        "    r = vecx[(i+1) + j*28]\n",
        "\n",
        "\n",
        "def digitWhiteRegions(vecx):\n",
        "  whiteRegions = 0\n",
        "  for y in range(28):\n",
        "    for x in range(28):\n",
        "      index = x + 28*y\n",
        "      if vecx[index] != 0 && index not in traversed:\n",
        "        whiteRegions += whiteRegionHelper(vecx, x, y)\n",
        "  return whiteRegions"
      ],
      "execution_count": 0,
      "outputs": [
        {
          "output_type": "execute_result",
          "data": {
            "text/plain": [
              "29.60969387755102"
            ]
          },
          "metadata": {
            "tags": []
          },
          "execution_count": 40
        }
      ]
    },
    {
      "cell_type": "code",
      "metadata": {
        "id": "48i9L-d8zEfo",
        "colab_type": "code",
        "colab": {}
      },
      "source": [
        "imgs = train_images_original\n",
        "widths = []\n",
        "heights = []\n",
        "intens = []\n",
        "\n",
        "for i in range(len(imgs)):\n",
        "  current = imgs[i].flatten()\n",
        "  widths.append(digitWidth(current))\n",
        "  heights.append(digitHeight(current))\n",
        "  intens.append(averageIntensity(current))"
      ],
      "execution_count": 0,
      "outputs": []
    },
    {
      "cell_type": "code",
      "metadata": {
        "id": "460hifKr6W3e",
        "colab_type": "code",
        "colab": {}
      },
      "source": [
        "timgs = test_images_original\n",
        "widthsTest = []\n",
        "heightsTest = []\n",
        "intensTest = []\n",
        "\n",
        "for i in range(len(timgs)):\n",
        "  current = imgs[i].flatten()\n",
        "  widthsTest.append(digitWidth(current))\n",
        "  heightsTest.append(digitHeight(current))\n",
        "  intensTest.append(averageIntensity(current))"
      ],
      "execution_count": 0,
      "outputs": []
    },
    {
      "cell_type": "code",
      "metadata": {
        "id": "5LeHgp8w8SvY",
        "colab_type": "code",
        "colab": {
          "base_uri": "https://localhost:8080/",
          "height": 34
        },
        "outputId": "a9a10759-a82d-4343-d862-cc9873318c3f"
      },
      "source": [
        "len(widthsTest)"
      ],
      "execution_count": 46,
      "outputs": [
        {
          "output_type": "execute_result",
          "data": {
            "text/plain": [
              "10000"
            ]
          },
          "metadata": {
            "tags": []
          },
          "execution_count": 46
        }
      ]
    },
    {
      "cell_type": "code",
      "metadata": {
        "id": "fLzdNKjKl1CI",
        "colab_type": "code",
        "colab": {}
      },
      "source": [
        "train_images = train_images_original.reshape((60000, 28 * 28))\n",
        "train_images = train_images.astype('float32') / 255\n",
        "\n",
        "test_images = test_images_original.reshape((10000, 28 * 28))\n",
        "test_images = test_images.astype('float32') / 255"
      ],
      "execution_count": 0,
      "outputs": []
    },
    {
      "cell_type": "code",
      "metadata": {
        "id": "oEDI4geRl5Qx",
        "colab_type": "code",
        "colab": {}
      },
      "source": [
        "train_labels = to_categorical(train_labels_original)\n",
        "test_labels = to_categorical(test_labels_original)"
      ],
      "execution_count": 0,
      "outputs": []
    },
    {
      "cell_type": "code",
      "metadata": {
        "id": "L8BGNT4_31Vn",
        "colab_type": "code",
        "colab": {}
      },
      "source": [
        "train_images = np.column_stack((train_images, widths))\n",
        "train_images = np.column_stack((train_images, heights))\n",
        "train_images = np.column_stack((train_images, intens))\n",
        "\n",
        "test_images = np.column_stack((test_images, widthsTest))\n",
        "test_images = np.column_stack((test_images, heightsTest))\n",
        "test_images = np.column_stack((test_images, intensTest))"
      ],
      "execution_count": 0,
      "outputs": []
    },
    {
      "cell_type": "code",
      "metadata": {
        "id": "FcqZY8IJl9aK",
        "colab_type": "code",
        "colab": {}
      },
      "source": [
        "network = models.Sequential()\n",
        "network.add(layers.Dense(256, activation='relu', input_shape=(28*28 + 3,)))\n",
        "network.add(layers.Dense(10, activation='softmax'))"
      ],
      "execution_count": 0,
      "outputs": []
    },
    {
      "cell_type": "code",
      "metadata": {
        "id": "NE8EYu9RmFBl",
        "colab_type": "code",
        "colab": {}
      },
      "source": [
        "network.compile(optimizer='rmsprop',\n",
        "                loss='categorical_crossentropy',\n",
        "                metrics=['accuracy'])"
      ],
      "execution_count": 0,
      "outputs": []
    },
    {
      "cell_type": "code",
      "metadata": {
        "id": "eDIGc6e2mLgP",
        "colab_type": "code",
        "colab": {
          "base_uri": "https://localhost:8080/",
          "height": 382
        },
        "outputId": "478c9696-e73a-4b69-bb4b-524232f24331"
      },
      "source": [
        "epochs = 10\n",
        "history = network.fit(train_images, \n",
        "                      train_labels, \n",
        "                      epochs=epochs, \n",
        "                      batch_size=128, \n",
        "                      validation_data=(test_images, test_labels))"
      ],
      "execution_count": 96,
      "outputs": [
        {
          "output_type": "stream",
          "text": [
            "Train on 60000 samples, validate on 10000 samples\n",
            "Epoch 1/10\n",
            "60000/60000 [==============================] - 4s 66us/step - loss: 0.3744 - acc: 0.8946 - val_loss: 0.3056 - val_acc: 0.9073\n",
            "Epoch 2/10\n",
            "60000/60000 [==============================] - 3s 56us/step - loss: 0.1814 - acc: 0.9466 - val_loss: 0.2413 - val_acc: 0.9289\n",
            "Epoch 3/10\n",
            "60000/60000 [==============================] - 3s 56us/step - loss: 0.1266 - acc: 0.9634 - val_loss: 0.2363 - val_acc: 0.9295\n",
            "Epoch 4/10\n",
            "60000/60000 [==============================] - 3s 57us/step - loss: 0.0964 - acc: 0.9711 - val_loss: 0.1867 - val_acc: 0.9452\n",
            "Epoch 5/10\n",
            "60000/60000 [==============================] - 3s 58us/step - loss: 0.0772 - acc: 0.9768 - val_loss: 0.2452 - val_acc: 0.9321\n",
            "Epoch 6/10\n",
            "60000/60000 [==============================] - 3s 57us/step - loss: 0.0641 - acc: 0.9812 - val_loss: 0.2513 - val_acc: 0.9306\n",
            "Epoch 7/10\n",
            "60000/60000 [==============================] - 3s 56us/step - loss: 0.0551 - acc: 0.9837 - val_loss: 0.2167 - val_acc: 0.9413\n",
            "Epoch 8/10\n",
            "60000/60000 [==============================] - 3s 58us/step - loss: 0.0466 - acc: 0.9859 - val_loss: 0.2270 - val_acc: 0.9378\n",
            "Epoch 9/10\n",
            "60000/60000 [==============================] - 3s 58us/step - loss: 0.0399 - acc: 0.9879 - val_loss: 0.3860 - val_acc: 0.9086\n",
            "Epoch 10/10\n",
            "60000/60000 [==============================] - 3s 53us/step - loss: 0.0358 - acc: 0.9892 - val_loss: 0.2238 - val_acc: 0.9393\n"
          ],
          "name": "stdout"
        }
      ]
    },
    {
      "cell_type": "code",
      "metadata": {
        "id": "6PqxMOkrnFCw",
        "colab_type": "code",
        "colab": {}
      },
      "source": [
        "history_dict = history.history\n",
        "loss_values = history_dict['loss']\n",
        "test_loss_values = history_dict['val_loss']\n",
        "epochs_range = range(1, epochs + 1)"
      ],
      "execution_count": 0,
      "outputs": []
    },
    {
      "cell_type": "code",
      "metadata": {
        "id": "QDEAAf4InRiy",
        "colab_type": "code",
        "colab": {
          "base_uri": "https://localhost:8080/",
          "height": 295
        },
        "outputId": "e797d789-79da-447a-c51a-6aef944fd894"
      },
      "source": [
        "plt.plot(epochs_range, loss_values, 'bo', label='Training loss')\n",
        "plt.plot(epochs_range, test_loss_values, 'ro', label='Test loss')\n",
        "plt.title('Training and test loss')\n",
        "plt.xlabel('Epochs')\n",
        "plt.ylabel('Loss')\n",
        "plt.legend()\n",
        "plt.show()"
      ],
      "execution_count": 98,
      "outputs": [
        {
          "output_type": "display_data",
          "data": {
            "image/png": "[encoded data removed]",
            "text/plain": [
              "<Figure size 432x288 with 1 Axes>"
            ]
          },
          "metadata": {
            "tags": []
          }
        }
      ]
    },
    {
      "cell_type": "code",
      "metadata": {
        "id": "zAFihmwunUks",
        "colab_type": "code",
        "colab": {}
      },
      "source": [
        "acc_values = history_dict['acc']\n",
        "test_acc_values = history_dict['val_acc']"
      ],
      "execution_count": 0,
      "outputs": []
    },
    {
      "cell_type": "code",
      "metadata": {
        "id": "MFLY21OtnYUj",
        "colab_type": "code",
        "colab": {
          "base_uri": "https://localhost:8080/",
          "height": 295
        },
        "outputId": "338bc85f-a26c-4f44-98dd-a1c0332aeb5b"
      },
      "source": [
        "plt.plot(epochs_range, acc_values, 'bo', label='Training accuracy')\n",
        "plt.plot(epochs_range, test_acc_values, 'ro', label='Test accuracy')\n",
        "plt.title('Training and test accuracy')\n",
        "plt.xlabel('Epochs')\n",
        "plt.ylabel('Accuracy')\n",
        "plt.legend()\n",
        "plt.show()"
      ],
      "execution_count": 100,
      "outputs": [
        {
          "output_type": "display_data",
          "data": {
            "image/png": "[encoded data removed]",
            "text/plain": [
              "<Figure size 432x288 with 1 Axes>"
            ]
          },
          "metadata": {
            "tags": []
          }
        }
      ]
    }
  ]
}