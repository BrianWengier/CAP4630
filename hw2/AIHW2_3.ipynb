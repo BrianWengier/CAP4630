{
  "nbformat": 4,
  "nbformat_minor": 0,
  "metadata": {
    "colab": {
      "name": "AIHW2.3.ipynb",
      "provenance": [],
      "collapsed_sections": [],
      "include_colab_link": true
    },
    "kernelspec": {
      "name": "python3",
      "display_name": "Python 3"
    }
  },
  "cells": [
    {
      "cell_type": "markdown",
      "metadata": {
        "id": "view-in-github",
        "colab_type": "text"
      },
      "source": [
        "<a href=\"https://colab.research.google.com/github/BrianWengier/CAP4630/blob/master/hw2/AIHW2_3.ipynb\" target=\"_parent\"><img src=\"https://colab.research.google.com/assets/colab-badge.svg\" alt=\"Open In Colab\"/></a>"
      ]
    },
    {
      "cell_type": "code",
      "metadata": {
        "id": "W0muAJJQlGJT",
        "colab_type": "code",
        "colab": {}
      },
      "source": [
        "import tensorflow as tf\n",
        "from tensorflow import keras\n",
        "from keras.datasets import cifar10\n",
        "\n",
        "import matplotlib.pyplot as plt\n",
        "import numpy as np\n",
        "\n",
        "(train_images, train_labels), (test_images, test_labels) = cifar10.load_data()"
      ],
      "execution_count": 0,
      "outputs": []
    },
    {
      "cell_type": "code",
      "metadata": {
        "id": "tElHS703KRnU",
        "colab_type": "code",
        "colab": {}
      },
      "source": [
        "train_images = train_images / 255.0\n",
        "test_images = test_images / 255.0"
      ],
      "execution_count": 0,
      "outputs": []
    },
    {
      "cell_type": "markdown",
      "metadata": {
        "id": "CEpvityRpPrv",
        "colab_type": "text"
      },
      "source": [
        "Underfit Model:"
      ]
    },
    {
      "cell_type": "code",
      "metadata": {
        "id": "qswKNKig3Sp5",
        "colab_type": "code",
        "outputId": "7a2ac5f9-99e9-4673-d2d3-1fc918eda2c8",
        "colab": {
          "base_uri": "https://localhost:8080/",
          "height": 1000
        }
      },
      "source": [
        "# set up the layers\n",
        "\n",
        "model = keras.Sequential([\n",
        "    \n",
        "    keras.layers.Flatten(input_shape=(32,32,3)),\n",
        "    keras.layers.Dense(1024, activation=tf.nn.relu),\n",
        "    keras.layers.Dropout(0.2),\n",
        "    keras.layers.Dense(1024, activation=tf.nn.relu),\n",
        "    keras.layers.Dropout(0.2),\n",
        "    keras.layers.Dense(512, activation=tf.nn.relu),\n",
        "    keras.layers.Dropout(0.2),\n",
        "    keras.layers.Dense(256, activation=tf.nn.relu),\n",
        "    keras.layers.Dropout(0.2),\n",
        "    keras.layers.Dense(10, activation=tf.nn.softmax)\n",
        "])\n",
        "\n",
        "# compile the model\n",
        "\n",
        "model.compile(optimizer='adam',\n",
        "             loss='sparse_categorical_crossentropy',\n",
        "             metrics=['accuracy'])\n",
        "\n",
        "# train the model\n",
        "epochs = 20\n",
        "history = model.fit(train_images, \n",
        "                      train_labels, \n",
        "                      epochs=epochs,  \n",
        "                      validation_data=(test_images, test_labels))\n",
        "\n",
        "test_loss, test_acc = model.evaluate(test_images, test_labels)\n",
        "print('Test accuracy:', test_acc)\n",
        "\n",
        "history_dict = history.history\n",
        "loss_values = history_dict['loss']\n",
        "test_loss_values = history_dict['val_loss']\n",
        "epochs_range = range(1, epochs+1)\n",
        "\n",
        "plt.plot(epochs_range, loss_values, 'bo', label='Training loss')\n",
        "plt.plot(epochs_range, test_loss_values, 'ro', label='Test loss')\n",
        "plt.title('Training and test loss')\n",
        "plt.xlabel('Epochs')\n",
        "plt.ylabel('Loss')\n",
        "plt.legend()\n",
        "plt.show()\n",
        "\n",
        "acc_values = history_dict['acc']\n",
        "test_acc_values = history_dict['val_acc']\n",
        "\n",
        "plt.plot(epochs_range, acc_values, 'bo', label='Training accuracy')\n",
        "plt.plot(epochs_range, test_acc_values, 'ro', label='Test accuracy')\n",
        "plt.title('Training and test accuracy')\n",
        "plt.xlabel('Epochs')\n",
        "plt.ylabel('Accuracy')\n",
        "plt.legend()\n",
        "plt.show()"
      ],
      "execution_count": 13,
      "outputs": [
        {
          "output_type": "stream",
          "text": [
            "Train on 50000 samples, validate on 10000 samples\n",
            "Epoch 1/20\n",
            "50000/50000 [==============================] - 84s 2ms/sample - loss: 2.0296 - acc: 0.2198 - val_loss: 1.8962 - val_acc: 0.2794\n",
            "Epoch 2/20\n",
            "50000/50000 [==============================] - 84s 2ms/sample - loss: 1.8536 - acc: 0.3173 - val_loss: 1.7587 - val_acc: 0.3485\n",
            "Epoch 3/20\n",
            "50000/50000 [==============================] - 83s 2ms/sample - loss: 1.7745 - acc: 0.3553 - val_loss: 1.6931 - val_acc: 0.3806\n",
            "Epoch 4/20\n",
            "50000/50000 [==============================] - 83s 2ms/sample - loss: 1.7214 - acc: 0.3730 - val_loss: 1.6385 - val_acc: 0.4096\n",
            "Epoch 5/20\n",
            "50000/50000 [==============================] - 82s 2ms/sample - loss: 1.6767 - acc: 0.3966 - val_loss: 1.5837 - val_acc: 0.4259\n",
            "Epoch 6/20\n",
            "50000/50000 [==============================] - 83s 2ms/sample - loss: 1.6406 - acc: 0.4067 - val_loss: 1.5613 - val_acc: 0.4393\n",
            "Epoch 7/20\n",
            "50000/50000 [==============================] - 83s 2ms/sample - loss: 1.6061 - acc: 0.4192 - val_loss: 1.5851 - val_acc: 0.4400\n",
            "Epoch 8/20\n",
            "50000/50000 [==============================] - 82s 2ms/sample - loss: 1.5831 - acc: 0.4295 - val_loss: 1.5188 - val_acc: 0.4610\n",
            "Epoch 9/20\n",
            "50000/50000 [==============================] - 82s 2ms/sample - loss: 1.5621 - acc: 0.4399 - val_loss: 1.4925 - val_acc: 0.4653\n",
            "Epoch 10/20\n",
            "50000/50000 [==============================] - 81s 2ms/sample - loss: 1.5452 - acc: 0.4432 - val_loss: 1.5109 - val_acc: 0.4591\n",
            "Epoch 11/20\n",
            "50000/50000 [==============================] - 81s 2ms/sample - loss: 1.5242 - acc: 0.4516 - val_loss: 1.4903 - val_acc: 0.4617\n",
            "Epoch 12/20\n",
            "50000/50000 [==============================] - 84s 2ms/sample - loss: 1.5093 - acc: 0.4578 - val_loss: 1.4453 - val_acc: 0.4902\n",
            "Epoch 13/20\n",
            "50000/50000 [==============================] - 84s 2ms/sample - loss: 1.4969 - acc: 0.4629 - val_loss: 1.4468 - val_acc: 0.4803\n",
            "Epoch 14/20\n",
            "50000/50000 [==============================] - 84s 2ms/sample - loss: 1.4839 - acc: 0.4639 - val_loss: 1.4422 - val_acc: 0.4804\n",
            "Epoch 15/20\n",
            "50000/50000 [==============================] - 84s 2ms/sample - loss: 1.4727 - acc: 0.4724 - val_loss: 1.4713 - val_acc: 0.4669\n",
            "Epoch 16/20\n",
            "50000/50000 [==============================] - 84s 2ms/sample - loss: 1.4600 - acc: 0.4777 - val_loss: 1.4035 - val_acc: 0.5025\n",
            "Epoch 17/20\n",
            "50000/50000 [==============================] - 83s 2ms/sample - loss: 1.4510 - acc: 0.4797 - val_loss: 1.4188 - val_acc: 0.4948\n",
            "Epoch 18/20\n",
            "50000/50000 [==============================] - 83s 2ms/sample - loss: 1.4384 - acc: 0.4812 - val_loss: 1.4161 - val_acc: 0.4956\n",
            "Epoch 19/20\n",
            "50000/50000 [==============================] - 83s 2ms/sample - loss: 1.4277 - acc: 0.4886 - val_loss: 1.4389 - val_acc: 0.4838\n",
            "Epoch 20/20\n",
            "50000/50000 [==============================] - 84s 2ms/sample - loss: 1.4232 - acc: 0.4886 - val_loss: 1.4179 - val_acc: 0.4927\n",
            "10000/10000 [==============================] - 4s 396us/sample - loss: 1.4179 - acc: 0.4927\n",
            "Test accuracy: 0.4927\n"
          ],
          "name": "stdout"
        },
        {
          "output_type": "display_data",
          "data": {
            "image/png": "[encoded data removed]",
            "text/plain": [
              "<Figure size 432x288 with 1 Axes>"
            ]
          },
          "metadata": {
            "tags": []
          }
        },
        {
          "output_type": "display_data",
          "data": {
            "image/png": "[encoded data removed]",
            "text/plain": [
              "<Figure size 432x288 with 1 Axes>"
            ]
          },
          "metadata": {
            "tags": []
          }
        }
      ]
    },
    {
      "cell_type": "markdown",
      "metadata": {
        "id": "XpiE3q8voBU5",
        "colab_type": "text"
      },
      "source": [
        "Overfit Model:"
      ]
    },
    {
      "cell_type": "code",
      "metadata": {
        "id": "pTDPjHmwoDSU",
        "colab_type": "code",
        "colab": {}
      },
      "source": [
        "# set up the layers\n",
        "\n",
        "model = keras.Sequential([\n",
        "    keras.layers.Conv2D(32, (3, 3), input_shape=(32,32,3), activation='relu', padding='same'),\n",
        "    keras.layers.Conv2D(32, (3, 3), activation='relu', padding='same'),\n",
        "    keras.layers.MaxPooling2D(pool_size = (2, 2)),\n",
        "    keras.layers.Conv2D(64, (3, 3), activation='relu', padding='same'),\n",
        "    keras.layers.Conv2D(64, (3, 3), activation='relu', padding='same'),\n",
        "    keras.layers.MaxPooling2D(pool_size = (2, 2)),\n",
        "    keras.layers.Conv2D(128, (3, 3), activation='relu', padding='same'),\n",
        "    keras.layers.Conv2D(128, (3, 3), activation='relu', padding='same'),\n",
        "    keras.layers.MaxPooling2D(pool_size = (2, 2)),\n",
        "    keras.layers.Flatten(),\n",
        "    keras.layers.Dense(1024, activation=tf.nn.relu),\n",
        "    keras.layers.Dense(512, activation=tf.nn.relu),\n",
        "    keras.layers.Dense(10, activation=tf.nn.softmax)\n",
        "])\n",
        "\n",
        "# compile the model\n",
        "\n",
        "model.compile(optimizer='adam',\n",
        "             loss='sparse_categorical_crossentropy',\n",
        "             metrics=['accuracy'])\n",
        "\n",
        "# train the model\n",
        "epochs = 20\n",
        "history = model.fit(train_images, \n",
        "                      train_labels, \n",
        "                      epochs=epochs,  \n",
        "                      validation_data=(test_images, test_labels))\n",
        "\n",
        "test_loss, test_acc = model.evaluate(test_images, test_labels)\n",
        "print('Test accuracy:', test_acc)\n",
        "\n",
        "history_dict = history.history\n",
        "loss_values = history_dict['loss']\n",
        "test_loss_values = history_dict['val_loss']\n",
        "epochs_range = range(1, epochs+1)\n",
        "\n",
        "plt.plot(epochs_range, loss_values, 'bo', label='Training loss')\n",
        "plt.plot(epochs_range, test_loss_values, 'ro', label='Test loss')\n",
        "plt.title('Training and test loss')\n",
        "plt.xlabel('Epochs')\n",
        "plt.ylabel('Loss')\n",
        "plt.legend()\n",
        "plt.show()\n",
        "\n",
        "acc_values = history_dict['acc']\n",
        "test_acc_values = history_dict['val_acc']\n",
        "\n",
        "plt.plot(epochs_range, acc_values, 'bo', label='Training accuracy')\n",
        "plt.plot(epochs_range, test_acc_values, 'ro', label='Test accuracy')\n",
        "plt.title('Training and test accuracy')\n",
        "plt.xlabel('Epochs')\n",
        "plt.ylabel('Accuracy')\n",
        "plt.legend()\n",
        "plt.show()"
      ],
      "execution_count": 0,
      "outputs": []
    },
    {
      "cell_type": "markdown",
      "metadata": {
        "id": "sdNky4nYn9fd",
        "colab_type": "text"
      },
      "source": [
        "Good Model:"
      ]
    },
    {
      "cell_type": "code",
      "metadata": {
        "colab_type": "code",
        "outputId": "10206e8d-4d70-44fb-c515-0b8c5b9d20e0",
        "id": "9MaJ6raRQusz",
        "colab": {
          "base_uri": "https://localhost:8080/",
          "height": 208
        }
      },
      "source": [
        "# set up the layers\n",
        "\n",
        "model = keras.Sequential([\n",
        "    keras.layers.Conv2D(32, (3, 3), input_shape=(32,32,3), activation='relu', padding='same'),\n",
        "    keras.layers.Dropout(0.2),\n",
        "    keras.layers.Conv2D(32, (3, 3), activation='relu', padding='same'),\n",
        "    keras.layers.MaxPooling2D(pool_size = (2, 2)),\n",
        "    keras.layers.Conv2D(64, (3, 3), activation='relu', padding='same'),\n",
        "    keras.layers.Dropout(0.2),\n",
        "    keras.layers.Conv2D(64, (3, 3), activation='relu', padding='same'),\n",
        "    keras.layers.MaxPooling2D(pool_size = (2, 2)),\n",
        "    keras.layers.Conv2D(128, (3, 3), activation='relu', padding='same'),\n",
        "    keras.layers.Dropout(0.2),\n",
        "    keras.layers.Conv2D(128, (3, 3), activation='relu', padding='same'),\n",
        "    keras.layers.MaxPooling2D(pool_size = (2, 2)),\n",
        "    keras.layers.Flatten(),\n",
        "    keras.layers.Dense(1024, activation=tf.nn.relu),\n",
        "    keras.layers.Dropout(0.2),\n",
        "    keras.layers.Dense(512, activation=tf.nn.relu),\n",
        "    keras.layers.Dropout(0.2),\n",
        "    keras.layers.Dense(10, activation=tf.nn.softmax)\n",
        "])\n",
        "\n",
        "# compile the model\n",
        "\n",
        "model.compile(optimizer='adam',\n",
        "             loss='sparse_categorical_crossentropy',\n",
        "             metrics=['accuracy'])\n",
        "\n",
        "# train the model\n",
        "epochs = 20\n",
        "history = model.fit(train_images, \n",
        "                      train_labels, \n",
        "                      epochs=epochs,  \n",
        "                      validation_data=(test_images, test_labels))\n",
        "\n",
        "test_loss, test_acc = model.evaluate(test_images, test_labels)\n",
        "print('Test accuracy:', test_acc)\n",
        "\n",
        "history_dict = history.history\n",
        "loss_values = history_dict['loss']\n",
        "test_loss_values = history_dict['val_loss']\n",
        "epochs_range = range(1, epochs+1)\n",
        "\n",
        "plt.plot(epochs_range, loss_values, 'bo', label='Training loss')\n",
        "plt.plot(epochs_range, test_loss_values, 'ro', label='Test loss')\n",
        "plt.title('Training and test loss')\n",
        "plt.xlabel('Epochs')\n",
        "plt.ylabel('Loss')\n",
        "plt.legend()\n",
        "plt.show()\n",
        "\n",
        "acc_values = history_dict['acc']\n",
        "test_acc_values = history_dict['val_acc']\n",
        "\n",
        "plt.plot(epochs_range, acc_values, 'bo', label='Training accuracy')\n",
        "plt.plot(epochs_range, test_acc_values, 'ro', label='Test accuracy')\n",
        "plt.title('Training and test accuracy')\n",
        "plt.xlabel('Epochs')\n",
        "plt.ylabel('Accuracy')\n",
        "plt.legend()\n",
        "plt.show()"
      ],
      "execution_count": 0,
      "outputs": [
        {
          "output_type": "stream",
          "text": [
            "Train on 50000 samples, validate on 10000 samples\n",
            "Epoch 1/20\n",
            "50000/50000 [==============================] - 458s 9ms/sample - loss: 2.3029 - acc: 0.0973 - val_loss: 2.3026 - val_acc: 0.1000\n",
            "Epoch 2/20\n",
            "50000/50000 [==============================] - 457s 9ms/sample - loss: 2.3028 - acc: 0.0971 - val_loss: 2.3026 - val_acc: 0.1000\n",
            "Epoch 3/20\n",
            "50000/50000 [==============================] - 455s 9ms/sample - loss: 2.3028 - acc: 0.0977 - val_loss: 2.3027 - val_acc: 0.1000\n",
            "Epoch 4/20\n",
            "50000/50000 [==============================] - 456s 9ms/sample - loss: 2.3027 - acc: 0.0987 - val_loss: 2.3027 - val_acc: 0.1000\n",
            "Epoch 5/20\n",
            "20224/50000 [===========>..................] - ETA: 4:22 - loss: 2.3028 - acc: 0.0957"
          ],
          "name": "stdout"
        }
      ]
    }
  ]
}